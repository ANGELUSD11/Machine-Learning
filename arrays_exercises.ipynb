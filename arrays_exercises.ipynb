{
 "cells": [
  {
   "cell_type": "markdown",
   "metadata": {
    "id": "COMuQmkJ7iNH"
   },
   "source": [
    "<img src='https://drive.google.com/uc?id=1nptVTliqyIIOzwF08JXJkWEvlYUC4_g5'  width=\"1500\" height=\"300\">"
   ]
  },
  {
   "cell_type": "markdown",
   "metadata": {
    "id": "Wf5KrEb6vrkR"
   },
   "source": [
    "<div class=\"markdown-google-sans\">\n",
    "  <h1>Python</h1>\n",
    "</div>"
   ]
  },
  {
   "cell_type": "markdown",
   "metadata": {
    "id": "3ltwm91eJyQM"
   },
   "source": [
    "Python es uno de los lenguajes de programación más populares para realizar aplicaciones basadas en Inteligencia Artificial, tanto en el ámbito académico como en la industria. Por ello, resulta esencial aprender este lenguaje para cualquier persona interesada en Inteligencia Artificial. En esta Notebook, repasaremos los conceptos básicos de Python."
   ]
  },
  {
   "cell_type": "markdown",
   "metadata": {
    "id": "6X4WJo3iM6m9"
   },
   "source": [
    "# NumPy"
   ]
  },
  {
   "cell_type": "markdown",
   "metadata": {
    "id": "_H3bNbLloXCY"
   },
   "source": [
    "NumPy es la biblioteca más popular de Python y sirve para almacenar vectores y matrices de números para poder realizar cálculos con ellas. Esto no solo permite escribir código a menudo más conciso, sino que también hace que el código sea más rápido, ya que la mayoría de las rutinas de NumPy se implementan en C para mayor velocidad."
   ]
  },
  {
   "cell_type": "code",
   "execution_count": 1,
   "metadata": {
    "executionInfo": {
     "elapsed": 92,
     "status": "ok",
     "timestamp": 1739065801568,
     "user": {
      "displayName": "oscar julian perdomo charry",
      "userId": "00703697915370109039"
     },
     "user_tz": 300
    },
    "id": "phSPPyfyq2gX"
   },
   "outputs": [],
   "source": [
    "# Debemos importar Numpy antes de poder usarla\n",
    "import numpy as np"
   ]
  },
  {
   "cell_type": "code",
   "execution_count": null,
   "metadata": {
    "colab": {
     "base_uri": "https://localhost:8080/"
    },
    "executionInfo": {
     "elapsed": 20,
     "status": "ok",
     "timestamp": 1739066034480,
     "user": {
      "displayName": "oscar julian perdomo charry",
      "userId": "00703697915370109039"
     },
     "user_tz": 300
    },
    "id": "Hfeg286yrLvJ",
    "outputId": "78959d6b-c4ee-4359-dc16-201a55a6a293"
   },
   "outputs": [
    {
     "data": {
      "text/plain": [
       "(array([1, 2, 3]),\n",
       " array([[1, 2, 3],\n",
       "        [4, 5, 6]]))"
      ]
     },
     "execution_count": 4,
     "metadata": {},
     "output_type": "execute_result"
    }
   ],
   "source": [
    "# Para crear un vector y una matriz se debe usar np.array a una lista\n",
    "vector = np.array([1, 2, 3])\n",
    "matriz = np.array([[1, 2, 3],\n",
    "                   [4, 5, 6]])\n",
    "vector, matriz"
   ]
  },
  {
   "cell_type": "code",
   "execution_count": 5,
   "metadata": {
    "colab": {
     "base_uri": "https://localhost:8080/"
    },
    "executionInfo": {
     "elapsed": 9,
     "status": "ok",
     "timestamp": 1739066071559,
     "user": {
      "displayName": "oscar julian perdomo charry",
      "userId": "00703697915370109039"
     },
     "user_tz": 300
    },
    "id": "4q8X86BbscPd",
    "outputId": "a4a42a69-9140-48e9-ac6a-bfdb57478066"
   },
   "outputs": [
    {
     "data": {
      "text/plain": [
       "6"
      ]
     },
     "execution_count": 5,
     "metadata": {},
     "output_type": "execute_result"
    }
   ],
   "source": [
    "# Buscando el elemnto con posición fila= 1, columna=2\n",
    "matriz[1, 2]"
   ]
  },
  {
   "cell_type": "code",
   "execution_count": 6,
   "metadata": {
    "colab": {
     "base_uri": "https://localhost:8080/"
    },
    "executionInfo": {
     "elapsed": 18,
     "status": "ok",
     "timestamp": 1739066087417,
     "user": {
      "displayName": "oscar julian perdomo charry",
      "userId": "00703697915370109039"
     },
     "user_tz": 300
    },
    "id": "CrKnDAtyTlYe",
    "outputId": "00406eed-6a07-4596-98ad-d6447f5e73b1"
   },
   "outputs": [
    {
     "data": {
      "text/plain": [
       "array([4, 5, 6])"
      ]
     },
     "execution_count": 6,
     "metadata": {},
     "output_type": "execute_result"
    }
   ],
   "source": [
    "matriz[1]"
   ]
  },
  {
   "cell_type": "code",
   "execution_count": 7,
   "metadata": {
    "colab": {
     "base_uri": "https://localhost:8080/"
    },
    "executionInfo": {
     "elapsed": 5,
     "status": "ok",
     "timestamp": 1739066090621,
     "user": {
      "displayName": "oscar julian perdomo charry",
      "userId": "00703697915370109039"
     },
     "user_tz": 300
    },
    "id": "MOOFsLHhTozX",
    "outputId": "54bebb68-7823-4eae-cbfc-f1c90476def3"
   },
   "outputs": [
    {
     "data": {
      "text/plain": [
       "array([3, 6])"
      ]
     },
     "execution_count": 7,
     "metadata": {},
     "output_type": "execute_result"
    }
   ],
   "source": [
    "matriz[:, 2]"
   ]
  },
  {
   "cell_type": "code",
   "execution_count": 8,
   "metadata": {
    "colab": {
     "base_uri": "https://localhost:8080/"
    },
    "executionInfo": {
     "elapsed": 11,
     "status": "ok",
     "timestamp": 1739066166338,
     "user": {
      "displayName": "oscar julian perdomo charry",
      "userId": "00703697915370109039"
     },
     "user_tz": 300
    },
    "id": "Gy19WSlDa6zO",
    "outputId": "7df69abb-ffd2-422e-a88a-ecf3ded32ed4"
   },
   "outputs": [
    {
     "name": "stdout",
     "output_type": "stream",
     "text": [
      "1\n",
      "2\n"
     ]
    }
   ],
   "source": [
    "# Dimension del \"array\"\n",
    "print(vector.ndim)\n",
    "print(matriz.ndim)"
   ]
  },
  {
   "cell_type": "code",
   "execution_count": 9,
   "metadata": {
    "colab": {
     "base_uri": "https://localhost:8080/"
    },
    "executionInfo": {
     "elapsed": 18,
     "status": "ok",
     "timestamp": 1739066152737,
     "user": {
      "displayName": "oscar julian perdomo charry",
      "userId": "00703697915370109039"
     },
     "user_tz": 300
    },
    "id": "5QIo7l1Yr8m7",
    "outputId": "9b1005c4-92f4-46ad-b9c4-802d00bf7f01"
   },
   "outputs": [
    {
     "name": "stdout",
     "output_type": "stream",
     "text": [
      "(3,)\n",
      "(2, 3)\n"
     ]
    }
   ],
   "source": [
    "# Tamaño del \"array\"\n",
    "print(vector.shape)\n",
    "print(matriz.shape)"
   ]
  },
  {
   "cell_type": "code",
   "execution_count": 10,
   "metadata": {
    "colab": {
     "base_uri": "https://localhost:8080/"
    },
    "executionInfo": {
     "elapsed": 25,
     "status": "ok",
     "timestamp": 1739066238634,
     "user": {
      "displayName": "oscar julian perdomo charry",
      "userId": "00703697915370109039"
     },
     "user_tz": 300
    },
    "id": "FZjOowkls57o",
    "outputId": "f13ed59b-ff2e-4d63-818d-708b5c28f609"
   },
   "outputs": [
    {
     "data": {
      "text/plain": [
       "(dtype('int64'), dtype('int64'))"
      ]
     },
     "execution_count": 10,
     "metadata": {},
     "output_type": "execute_result"
    }
   ],
   "source": [
    "# El tipo de datos del \"array\"\n",
    "vector.dtype, matriz.dtype"
   ]
  },
  {
   "cell_type": "markdown",
   "metadata": {
    "id": "pPjvZEOibHwq"
   },
   "source": [
    "<div class=\"markdown-google-sans\">\n",
    "  <h1>Ejercicio 1</h1>\n",
    "</div>"
   ]
  },
  {
   "cell_type": "code",
   "execution_count": null,
   "metadata": {
    "executionInfo": {
     "elapsed": 10,
     "status": "ok",
     "timestamp": 1739066521380,
     "user": {
      "displayName": "oscar julian perdomo charry",
      "userId": "00703697915370109039"
     },
     "user_tz": 300
    },
    "id": "gXpM_FqruCVv"
   },
   "outputs": [
    {
     "name": "stdout",
     "output_type": "stream",
     "text": [
      "[[ 1.  2.  3.  4.]\n",
      " [ 5.  6.  7.  8.]\n",
      " [ 9. 10. 11. 12.]\n",
      " [13. 14. 15. 16.]]\n",
      "float64\n"
     ]
    }
   ],
   "source": [
    "# Crear un array con dim=2, shape=(4,4) y dtype='np.float64\n",
    "# Escriba su código acá\n",
    "\n",
    "array = np.array([[1, 2, 3, 4],\n",
    "                 [5, 6, 7, 8],\n",
    "                 [9, 10, 11, 12],\n",
    "                 [13, 14, 15, 16]],\n",
    "                dtype=np.float64)\n",
    "print(array)\n",
    "print(array.dtype)"
   ]
  },
  {
   "cell_type": "code",
   "execution_count": 19,
   "metadata": {
    "colab": {
     "base_uri": "https://localhost:8080/"
    },
    "executionInfo": {
     "elapsed": 17,
     "status": "ok",
     "timestamp": 1739066516433,
     "user": {
      "displayName": "oscar julian perdomo charry",
      "userId": "00703697915370109039"
     },
     "user_tz": 300
    },
    "id": "jbD8N1UauK8r",
    "outputId": "baf1db50-95ee-4e2b-a0bc-de101694f72b"
   },
   "outputs": [
    {
     "data": {
      "text/plain": [
       "array([[0., 0., 0.],\n",
       "       [0., 0., 0.]])"
      ]
     },
     "execution_count": 19,
     "metadata": {},
     "output_type": "execute_result"
    }
   ],
   "source": [
    "# Creando \"array\" con todos los elementos en 0\n",
    "ceros = np.zeros((2, 3))\n",
    "ceros"
   ]
  },
  {
   "cell_type": "code",
   "execution_count": 21,
   "metadata": {
    "colab": {
     "base_uri": "https://localhost:8080/"
    },
    "executionInfo": {
     "elapsed": 16,
     "status": "ok",
     "timestamp": 1739066541111,
     "user": {
      "displayName": "oscar julian perdomo charry",
      "userId": "00703697915370109039"
     },
     "user_tz": 300
    },
    "id": "bRULJc6ccVSC",
    "outputId": "61896530-979c-4a43-90ef-d77e20fbdb69"
   },
   "outputs": [
    {
     "data": {
      "text/plain": [
       "array([[1., 1., 1.],\n",
       "       [1., 1., 1.]])"
      ]
     },
     "execution_count": 21,
     "metadata": {},
     "output_type": "execute_result"
    }
   ],
   "source": [
    "# Creando \"array\" con todos los elementos en 1\n",
    "unos = np.ones((2, 3))\n",
    "unos"
   ]
  },
  {
   "cell_type": "code",
   "execution_count": 22,
   "metadata": {
    "colab": {
     "base_uri": "https://localhost:8080/"
    },
    "executionInfo": {
     "elapsed": 8,
     "status": "ok",
     "timestamp": 1739066564953,
     "user": {
      "displayName": "oscar julian perdomo charry",
      "userId": "00703697915370109039"
     },
     "user_tz": 300
    },
    "id": "EcQXDeEmuxpO",
    "outputId": "4e5f2203-7937-4656-a062-595577beac4f"
   },
   "outputs": [
    {
     "data": {
      "text/plain": [
       "array([0, 1, 2, 3, 4])"
      ]
     },
     "execution_count": 22,
     "metadata": {},
     "output_type": "execute_result"
    }
   ],
   "source": [
    "# Creando \"array\" con todos los elementos en forma ascedente\n",
    "np.arange(5)"
   ]
  },
  {
   "cell_type": "code",
   "execution_count": 24,
   "metadata": {
    "colab": {
     "base_uri": "https://localhost:8080/"
    },
    "executionInfo": {
     "elapsed": 12,
     "status": "ok",
     "timestamp": 1739066591050,
     "user": {
      "displayName": "oscar julian perdomo charry",
      "userId": "00703697915370109039"
     },
     "user_tz": 300
    },
    "id": "Pk3UzL3du_f8",
    "outputId": "5eba82fa-df76-4bef-d672-3051a26b3e6b"
   },
   "outputs": [
    {
     "data": {
      "text/plain": [
       "array([3, 4, 5, 6])"
      ]
     },
     "execution_count": 24,
     "metadata": {},
     "output_type": "execute_result"
    }
   ],
   "source": [
    "# Creando \"array\" con todos los elementos en un rango\n",
    "np.arange(3, 7)"
   ]
  },
  {
   "cell_type": "markdown",
   "metadata": {
    "id": "nuclel3ucsKC"
   },
   "source": [
    "<div class=\"markdown-google-sans\">\n",
    "  <h1>Ejercicio 2</h1>\n",
    "</div>"
   ]
  },
  {
   "cell_type": "code",
   "execution_count": 17,
   "metadata": {
    "id": "lTA9Fh3-cpU2"
   },
   "outputs": [
    {
     "name": "stdout",
     "output_type": "stream",
     "text": [
      "==========================ARRAY SIN MODIIFICAR=========================\n",
      "[[ 1  2  3]\n",
      " [ 4  5  6]\n",
      " [ 7  8  9]\n",
      " [10 11 12]]\n",
      "==========================ARRAY CON RESHAPE DE 3 FILAS 4 COLUMNAS=========================\n",
      "[[ 1  2  3  4]\n",
      " [ 5  6  7  8]\n",
      " [ 9 10 11 12]]\n",
      "==========================ARRAY CON RESHAPE DE 6 FILAS 2 COLUMNAS=========================\n",
      "[[ 1  2]\n",
      " [ 3  4]\n",
      " [ 5  6]\n",
      " [ 7  8]\n",
      " [ 9 10]\n",
      " [11 12]]\n"
     ]
    }
   ],
   "source": [
    "# Crear un array de 4x3 y usar .reshape para generar: un array de 3x4 y otro array de 6x2\n",
    "array_4x3 = np.array([[1, 2, 3],\n",
    "                      [4, 5, 6],\n",
    "                      [7, 8, 9],\n",
    "                      [10, 11, 12]])\n",
    "\n",
    "\n",
    "print(\"==========================ARRAY SIN MODIIFICAR=========================\")\n",
    "print(array_4x3)\n",
    "print(\"==========================ARRAY CON RESHAPE DE 3 FILAS 4 COLUMNAS=========================\")\n",
    "print(array_4x3.reshape(3, 4))\n",
    "print(\"==========================ARRAY CON RESHAPE DE 6 FILAS 2 COLUMNAS=========================\")\n",
    "print(array_4x3.reshape(6, 2))"
   ]
  },
  {
   "cell_type": "markdown",
   "metadata": {
    "id": "bNHOxs1DdXGC"
   },
   "source": [
    "<div class=\"markdown-google-sans\">\n",
    "  <h1>Ejercicio 3</h1>\n",
    "</div>"
   ]
  },
  {
   "cell_type": "code",
   "execution_count": 42,
   "metadata": {
    "executionInfo": {
     "elapsed": 57,
     "status": "ok",
     "timestamp": 1739066893369,
     "user": {
      "displayName": "oscar julian perdomo charry",
      "userId": "00703697915370109039"
     },
     "user_tz": 300
    },
    "id": "0kPhv2xcF1TP"
   },
   "outputs": [
    {
     "name": "stdout",
     "output_type": "stream",
     "text": [
      "METODO CORTO PARA RESOLVER EL EJERCICIO\n",
      "array completo\n",
      "[ 10  11  12  13  14  15  16  17  18  19  20  21  22  23  24  25  26  27\n",
      "  28  29  30  31  32  33  34  35  36  37  38  39  40  41  42  43  44  45\n",
      "  46  47  48  49  50  51  52  53  54  55  56  57  58  59  60  61  62  63\n",
      "  64  65  66  67  68  69  70  71  72  73  74  75  76  77  78  79  80  81\n",
      "  82  83  84  85  86  87  88  89  90  91  92  93  94  95  96  97  98  99\n",
      " 100]\n",
      "array con valores intermedios\n",
      "[ 10  13  16  19  22  25  28  31  34  37  41  44  47  50  53  56  59  62\n",
      "  65  68  72  75  78  81  84  87  90  93  96 100]\n",
      "METODO LARGO PARA RESOLVER EL EJERCICIO\n",
      "array completo\n",
      "[ 10  11  12  13  14  15  16  17  18  19  20  21  22  23  24  25  26  27\n",
      "  28  29  30  31  32  33  34  35  36  37  38  39  40  41  42  43  44  45\n",
      "  46  47  48  49  50  51  52  53  54  55  56  57  58  59  60  61  62  63\n",
      "  64  65  66  67  68  69  70  71  72  73  74  75  76  77  78  79  80  81\n",
      "  82  83  84  85  86  87  88  89  90  91  92  93  94  95  96  97  98  99\n",
      " 100]\n",
      "el paso consecutivo es 3\n",
      "array con valores intermedios\n",
      "[10, 13, 16, 19, 22, 25, 28, 31, 34, 37, 40, 43, 46, 49, 52, 55, 58, 61, 64, 67, 70, 73, 76, 79, 82, 85, 88, 91, 94, 97, 100]\n"
     ]
    }
   ],
   "source": [
    "# Crear un array con elementos ascedentes desde el 10 hasta el 100, y presentar los 30 valores intermedios\n",
    "#se crea mediante linspace \n",
    "\n",
    "def metodo_corto():\n",
    "    print(\"METODO CORTO PARA RESOLVER EL EJERCICIO\")\n",
    "    array_completo = np.arange(10, 101)\n",
    "    array_intermedios = np.linspace(10, 100, 30).astype(int)\n",
    "    print(\"array completo\")\n",
    "    print(array_completo)\n",
    "    print(\"array con valores intermedios\")\n",
    "    print(array_intermedios)\n",
    "\n",
    "def metodo_largo():\n",
    "    print(\"METODO LARGO PARA RESOLVER EL EJERCICIO\")\n",
    "    array_ascendente = np.arange(10, 101)\n",
    "    print(\"array completo\")\n",
    "    print(array_ascendente)\n",
    "\n",
    "    paso = len(array_ascendente) // 30 #divido enteramente la longitud del array entre 30 (100//30 = 3)\n",
    "    print(f\"el paso consecutivo es {paso}\")\n",
    "\n",
    "    valores_intermedios = [] #creo una lista vacia para almacenar los valores intermedios\n",
    "\n",
    "    for i in range(0, len(array_ascendente), paso):\n",
    "        valores_intermedios.append(array_ascendente[i]) #agrego los valores intermedios a la lista\n",
    "\n",
    "    print(\"array con valores intermedios\")\n",
    "    print(valores_intermedios)\n",
    "\n",
    "metodo_corto()\n",
    "metodo_largo()"
   ]
  },
  {
   "cell_type": "markdown",
   "metadata": {
    "id": "5Wpsu20ud1K6"
   },
   "source": [
    "<div class=\"markdown-google-sans\">\n",
    "  <h1>Ejercicio 4</h1>\n",
    "</div>"
   ]
  },
  {
   "cell_type": "code",
   "execution_count": 54,
   "metadata": {
    "id": "v1ed4-vLUWXQ"
   },
   "outputs": [
    {
     "name": "stdout",
     "output_type": "stream",
     "text": [
      "[[[1 2]\n",
      "  [3 4]]\n",
      "\n",
      " [[5 6]\n",
      "  [7 8]]]\n",
      "\n",
      "Elemento en [0, 0, 0]: 1\n",
      "Elemento en [0, 0, 1]: 2\n",
      "Elemento en [0, 1, 0]: 3\n",
      "Elemento en [0, 1, 1]: 4\n",
      "Elemento en [1, 0, 0]: 5\n",
      "Elemento en [1, 0, 1]: 6\n",
      "Elemento en [1, 1, 0]: 7\n",
      "Elemento en [1, 1, 1]: 8\n"
     ]
    }
   ],
   "source": [
    "# Crear un 3d array (dim=3) con tamaño (2,2,2) que contenga 8 valores. Acceder a cada uno de los elementos individuales y por filas y columnas\n",
    "\n",
    "array_3d = np.array([\n",
    "    [[1, 2], [3, 4]],\n",
    "    [[5, 6], [7, 8]]\n",
    "    ])\n",
    "\n",
    "print(array_3d)\n",
    "print(\"\\nElemento en [0, 0, 0]:\", array_3d[0, 0, 0])  # 1\n",
    "print(\"Elemento en [0, 0, 1]:\", array_3d[0, 0, 1])  # 2\n",
    "print(\"Elemento en [0, 1, 0]:\", array_3d[0, 1, 0])  # 3\n",
    "print(\"Elemento en [0, 1, 1]:\", array_3d[0, 1, 1])  # 4\n",
    "print(\"Elemento en [1, 0, 0]:\", array_3d[1, 0, 0])  # 5\n",
    "print(\"Elemento en [1, 0, 1]:\", array_3d[1, 0, 1])  # 6\n",
    "print(\"Elemento en [1, 1, 0]:\", array_3d[1, 1, 0])  # 7\n",
    "print(\"Elemento en [1, 1, 1]:\", array_3d[1, 1, 1])  # 7\n"
   ]
  },
  {
   "cell_type": "markdown",
   "metadata": {
    "id": "Nkr9NkqPeaT4"
   },
   "source": [
    "<div class=\"markdown-google-sans\">\n",
    "  <h1>Ejercicio 5</h1>\n",
    "</div>"
   ]
  },
  {
   "cell_type": "code",
   "execution_count": 3,
   "metadata": {
    "colab": {
     "base_uri": "https://localhost:8080/"
    },
    "executionInfo": {
     "elapsed": 20,
     "status": "ok",
     "timestamp": 1739067180578,
     "user": {
      "displayName": "oscar julian perdomo charry",
      "userId": "00703697915370109039"
     },
     "user_tz": 300
    },
    "id": "9BT_9QMSeoWJ",
    "outputId": "2d6e63aa-7f1c-4a57-f86e-2606ae9da8a2"
   },
   "outputs": [
    {
     "name": "stdout",
     "output_type": "stream",
     "text": [
      "[3 4 5]\n",
      "4.0\n",
      "4.0\n"
     ]
    }
   ],
   "source": [
    "# Defina el siguiente arreglo y calcule la media. Media es la suma de los elementos dividido por el número de elementos\n",
    "arreglo = np.arange(3, 6)\n",
    "suma = sum(arreglo/len(arreglo))\n",
    "media = np.mean(arreglo)\n",
    "print(arreglo)\n",
    "print(media)\n",
    "print(suma)"
   ]
  },
  {
   "cell_type": "markdown",
   "metadata": {
    "id": "9Alid0xuedgO"
   },
   "source": [
    "<div class=\"markdown-google-sans\">\n",
    "  <h1>Ejercicio 6</h1>\n",
    "</div>"
   ]
  },
  {
   "cell_type": "code",
   "execution_count": null,
   "metadata": {
    "colab": {
     "base_uri": "https://localhost:8080/"
    },
    "executionInfo": {
     "elapsed": 43,
     "status": "ok",
     "timestamp": 1739067539996,
     "user": {
      "displayName": "oscar julian perdomo charry",
      "userId": "00703697915370109039"
     },
     "user_tz": 300
    },
    "id": "xvu7zCWbfTh8",
    "outputId": "6442f5cb-e196-411d-a62d-dc0be1d6568e"
   },
   "outputs": [
    {
     "name": "stdout",
     "output_type": "stream",
     "text": [
      "[[1 2 3]\n",
      " [4 5 6]]\n",
      "==========================ARRAY CUBO=========================\n",
      "[[  1   8  27]\n",
      " [ 64 125 216]]\n"
     ]
    }
   ],
   "source": [
    "# Defina el siguiente arreglo y genere un nuevo array que contenga cada uno de sus elementos elevado al cubo\n",
    "array = np.array([[1, 2, 3],[4, 5, 6]])\n",
    "print(array)\n",
    "print(\"==========================ARRAY CUBO=============================\")\n",
    "array_cubo = array ** 3 \n",
    "print(array_cubo)"
   ]
  },
  {
   "cell_type": "markdown",
   "metadata": {
    "id": "2Poye63Yed6S"
   },
   "source": [
    "<div class=\"markdown-google-sans\">\n",
    "  <h1>Ejercicio 7</h1>\n",
    "</div>"
   ]
  },
  {
   "cell_type": "code",
   "execution_count": null,
   "metadata": {
    "colab": {
     "base_uri": "https://localhost:8080/"
    },
    "executionInfo": {
     "elapsed": 83,
     "status": "ok",
     "timestamp": 1739067636568,
     "user": {
      "displayName": "oscar julian perdomo charry",
      "userId": "00703697915370109039"
     },
     "user_tz": 300
    },
    "id": "yN-S1ucpf6xO",
    "outputId": "11b7ab8c-1ae7-4af9-b058-863fa0506db0"
   },
   "outputs": [
    {
     "name": "stdout",
     "output_type": "stream",
     "text": [
      "5.729746940310715\n"
     ]
    }
   ],
   "source": [
    "# Calcule la norma euclidiana del siguiente vector (ver siguiente https://es.wikipedia.org/wiki/Norma_vectorial)\n",
    "norma_euc = np.array([0.5, -1.2, 3.3, 4.5])\n",
    "\n",
    "#la norma euclidiana se calcula como la raiz cuadrada de la suma de los cuadrados de cada uno de los elementos\n",
    "suma = sum(norma_euc ** 2)\n",
    "norma = np.sqrt(suma)\n",
    "print(norma)"
   ]
  },
  {
   "cell_type": "markdown",
   "metadata": {
    "id": "tRfaXDiTeeMT"
   },
   "source": [
    "<div class=\"markdown-google-sans\">\n",
    "  <h1>Ejercicio 8</h1>\n",
    "</div>"
   ]
  },
  {
   "cell_type": "code",
   "execution_count": 33,
   "metadata": {
    "colab": {
     "base_uri": "https://localhost:8080/"
    },
    "executionInfo": {
     "elapsed": 89,
     "status": "ok",
     "timestamp": 1739067732034,
     "user": {
      "displayName": "oscar julian perdomo charry",
      "userId": "00703697915370109039"
     },
     "user_tz": 300
    },
    "id": "QtSTxH5Dz6f8",
    "outputId": "9b22e02d-e9c8-4f5b-b3b2-99907d85dba9"
   },
   "outputs": [
    {
     "name": "stdout",
     "output_type": "stream",
     "text": [
      "CONVIERTO EL ARRAY 2D A UN ARRAY SIMPLE\n",
      "ARRAY CONVERTIDO A 1D\n",
      "[ 0.5 -1.2  4.5 -3.2  1.9  2.7]\n",
      "norma euclidiana: 6.563535632568776\n"
     ]
    }
   ],
   "source": [
    "# Calcule la norma euclidiana del siguiente 2d array (ver siguiente https://es.wikipedia.org/wiki/Norma_vectorial)\n",
    "array2d = np.array([[0.5, -1.2, 4.5],\n",
    "          [-3.2, 1.9, 2.7]])\n",
    "\n",
    "print(\"CONVIERTO EL ARRAY 2D A UN ARRAY SIMPLE\")\n",
    "\n",
    "array1d = array2d.flatten()\n",
    "print(\"ARRAY CONVERTIDO A 1D\")\n",
    "print(array1d)\n",
    "suma  = sum(array1d ** 2)\n",
    "normal = np.sqrt(suma)\n",
    "print(f\"norma euclidiana: {normal}\")"
   ]
  },
  {
   "cell_type": "markdown",
   "metadata": {
    "id": "hFP61Iztmr9Q"
   },
   "source": [
    "* [NumPy](https://numpy.org/doc/stable/reference/)\n",
    "* [SciPy](https://scipy-lectures.org/)\n",
    "* Youtube [tutorial](https://www.youtube.com/watch?v=QUT1VHiLmmI)\n",
    "\n"
   ]
  },
  {
   "cell_type": "markdown",
   "metadata": {
    "id": "SgHDcaY89WEv"
   },
   "source": [
    "<img src='https://drive.google.com/uc?id=1JTvS_vjZTzQfHiMOt9ZbfqmjNN1FvOOm'>"
   ]
  }
 ],
 "metadata": {
  "colab": {
   "provenance": []
  },
  "kernelspec": {
   "display_name": "Python 3",
   "name": "python3"
  },
  "language_info": {
   "codemirror_mode": {
    "name": "ipython",
    "version": 3
   },
   "file_extension": ".py",
   "mimetype": "text/x-python",
   "name": "python",
   "nbconvert_exporter": "python",
   "pygments_lexer": "ipython3",
   "version": "3.12.9"
  }
 },
 "nbformat": 4,
 "nbformat_minor": 0
}
